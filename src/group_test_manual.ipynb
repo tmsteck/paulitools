{
 "cells": [
  {
   "cell_type": "code",
   "execution_count": 3,
   "metadata": {},
   "outputs": [
    {
     "data": {
      "text/plain": [
       "\"    ker = radical(paulis, reduced=reduced)\\n    #print('ker',ker)\\n    if reduced:\\n        return ker @ paulis\\n    else:\\n        return ker @ paulis.row_reduce().row_space()\""
      ]
     },
     "execution_count": 3,
     "metadata": {},
     "output_type": "execute_result"
    }
   ],
   "source": [
    "import unittest\n",
    "import numpy as np\n",
    "# Unit tests using unittest framework\n",
    "#Import everything from the /src directory:\n",
    "import sys\n",
    "import os\n",
    "sys.path.append('../src')\n",
    "\n",
    "from core import toZX, toString, concatenate_ZX, right_pad, left_pad, symplectic_inner_product\n",
    "from group import radical, row_reduce\n",
    "\n",
    "#def centralizer(paulis, reduced=False):\n",
    "\"\"\"    ker = radical(paulis, reduced=reduced)\n",
    "    #print('ker',ker)\n",
    "    if reduced:\n",
    "        return ker @ paulis\n",
    "    else:\n",
    "        return ker @ paulis.row_reduce().row_space()\"\"\""
   ]
  },
  {
   "cell_type": "code",
   "execution_count": null,
   "metadata": {},
   "outputs": [
    {
     "name": "stdout",
     "output_type": "stream",
     "text": [
      "[ 2 24  2  6]\n",
      "[ 2 24  2  6]\n",
      "[2 0]\n",
      "11000\n",
      "00010\n",
      "00110\n",
      "['11000' '00010' '00110']\n"
     ]
    }
   ],
   "source": [
    "input_group = toZX(['XX', 'ZI', 'ZZ'])\n",
    "print(input_group)\n",
    "kernel = radical(input_group, reduced=False)\n",
    "print(input_group)\n",
    "print(kernel)\n",
    "def toArray(data):\n",
    "    \"\"\"Prints out a symplectic form as a binary array\"\"\"\n",
    "    #Convert to binary:\n",
    "    k = data[0]\n",
    "    data = data[1:]\n",
    "    binary_form = np.zeros(len(data), dtype=object)\n",
    "    for i in range(len(data)):\n",
    "        #print(data[i])\n",
    "        #print(bin(data[i]))\n",
    "        bin_string = bin(data[i])[2:].zfill(2*k+1)\n",
    "        binary_form[i] = bin_string\n",
    "        print(bin_string)\n",
    "    return binary_form\n",
    "        \n",
    "\n",
    "print(toArray(input_group))\n",
    "#centralizer = "
   ]
  },
  {
   "cell_type": "code",
   "execution_count": null,
   "metadata": {},
   "outputs": [],
   "source": []
  }
 ],
 "metadata": {
  "kernelspec": {
   "display_name": "base",
   "language": "python",
   "name": "python3"
  },
  "language_info": {
   "codemirror_mode": {
    "name": "ipython",
    "version": 3
   },
   "file_extension": ".py",
   "mimetype": "text/x-python",
   "name": "python",
   "nbconvert_exporter": "python",
   "pygments_lexer": "ipython3",
   "version": "3.10.9"
  }
 },
 "nbformat": 4,
 "nbformat_minor": 2
}
