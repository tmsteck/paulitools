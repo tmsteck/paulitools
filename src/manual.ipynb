{
 "cells": [
  {
   "cell_type": "code",
   "execution_count": 1,
   "metadata": {},
   "outputs": [
    {
     "data": {
      "text/plain": [
       "\"    ker = radical(paulis, reduced=reduced)\\n    #print('ker',ker)\\n    if reduced:\\n        return ker @ paulis\\n    else:\\n        return ker @ paulis.row_reduce().row_space()\""
      ]
     },
     "execution_count": 1,
     "metadata": {},
     "output_type": "execute_result"
    }
   ],
   "source": [
    "import unittest\n",
    "import numpy as np\n",
    "# Unit tests using unittest framework\n",
    "#Import everything from the /src directory:\n",
    "import sys\n",
    "import os\n",
    "sys.path.append('../src')\n",
    "\n",
    "from core import toZX, toString, concatenate_ZX, right_pad, left_pad, symplectic_inner_product\n",
    "#from group import radical, row_reduce\n",
    "#from paulitools import *\n",
    "from paulitools.converter import toZX as pt_toZX#, pt_toString\n",
    "from paulitools.converter import toString as pt_toString\n",
    "from paulitools.group import radical as radical_pt#, inner_product_pt\n",
    "from paulitools.group import inner_product as inner_product_pt\n",
    "from paulitools.group import centralizer as centralizer_pt\n",
    "#def centralizer(paulis, reduced=False):\n",
    "from util import toBinary, convert_array_type\n",
    "from group import null_space, inner_product, centralizer, radical, row_reduce\n",
    "\"\"\"    ker = radical(paulis, reduced=reduced)\n",
    "    #print('ker',ker)\n",
    "    if reduced:\n",
    "        return ker @ paulis\n",
    "    else:\n",
    "        return ker @ paulis.row_reduce().row_space()\"\"\""
   ]
  },
  {
   "cell_type": "code",
   "execution_count": null,
   "metadata": {},
   "outputs": [],
   "source": []
  },
  {
   "cell_type": "code",
   "execution_count": 10,
   "metadata": {},
   "outputs": [
    {
     "name": "stdout",
     "output_type": "stream",
     "text": [
      "[[0 0 1 0]\n",
      " [1 0 0 0]\n",
      " [0 1 0 0]]\n",
      "['IZ']\n",
      "Kernel\n",
      "[[0 1 0]]\n",
      "Paulis\n",
      "[[1 0 0 0]\n",
      " [0 1 0 0]\n",
      " [0 0 1 0]]\n"
     ]
    }
   ],
   "source": [
    "test_1_pt = pt_toZX(['XI', 'ZI', 'IZ'])\n",
    "print(test_1_pt)\n",
    "print(pt_toString(centralizer_pt(test_1_pt)))\n",
    "print('Kernel')\n",
    "kernel = radical_pt(test_1_pt)\n",
    "print(kernel)\n",
    "print('Paulis')\n",
    "print(test_1_pt.row_reduce().row_space())\n",
    "\n",
    "#print((kernel @ test_1_pt.row_reduce().row_space()))\n"
   ]
  },
  {
   "cell_type": "code",
   "execution_count": 11,
   "metadata": {},
   "outputs": [
    {
     "name": "stdout",
     "output_type": "stream",
     "text": [
      "Kernel\n",
      "[[0 1 0]]\n",
      "[2 8 4 2]\n",
      "[[0 0 1 0]\n",
      " [0 1 0 0]\n",
      " [1 0 0 0]]\n"
     ]
    },
    {
     "data": {
      "text/plain": [
       "array([[1, 0, 0, 0]], dtype=int8)"
      ]
     },
     "execution_count": 11,
     "metadata": {},
     "output_type": "execute_result"
    }
   ],
   "source": [
    "test_1 = toZX(['XI', 'ZI', 'IZ'])\n",
    "#print(test_1)\n",
    "kernel = radical(test_1.copy())\n",
    "#print(test_1)\n",
    "#print(type(kernel))\n",
    "#print(type(kernel.astype(np.int8))) \n",
    "ker = convert_array_type(kernel, np.int8)\n",
    "#print(kernel)\n",
    "print('Kernel')\n",
    "print(ker)\n",
    "#print(row_reduce(test_1))\n",
    "#print(test_1)\n",
    "print(row_reduce(test_1))\n",
    "print(toBinary(row_reduce(test_1)))#.astype(int))\n",
    "ker @ toBinary(test_1)#.astype(int)\n",
    "\n"
   ]
  },
  {
   "cell_type": "code",
   "execution_count": 4,
   "metadata": {},
   "outputs": [
    {
     "name": "stdout",
     "output_type": "stream",
     "text": [
      "+XI, +ZI, +IZ\n"
     ]
    },
    {
     "ename": "NameError",
     "evalue": "name 'test_2' is not defined",
     "output_type": "error",
     "traceback": [
      "\u001b[0;31m---------------------------------------------------------------------------\u001b[0m",
      "\u001b[0;31mNameError\u001b[0m                                 Traceback (most recent call last)",
      "Cell \u001b[0;32mIn[4], line 2\u001b[0m\n\u001b[1;32m      1\u001b[0m \u001b[38;5;28mprint\u001b[39m(toString(test_1))\n\u001b[0;32m----> 2\u001b[0m \u001b[38;5;28mprint\u001b[39m(toString(\u001b[43mtest_2\u001b[49m))\n\u001b[1;32m      3\u001b[0m \u001b[38;5;28mprint\u001b[39m(toString(test_3))\n",
      "\u001b[0;31mNameError\u001b[0m: name 'test_2' is not defined"
     ]
    }
   ],
   "source": [
    "print(toString(test_1))\n",
    "print(toString(test_2))\n",
    "print(toString(test_3))\n",
    "\n"
   ]
  },
  {
   "cell_type": "code",
   "execution_count": null,
   "metadata": {},
   "outputs": [
    {
     "name": "stdout",
     "output_type": "stream",
     "text": [
      "+XI, +YI, \n"
     ]
    }
   ],
   "source": [
    "#Check padding:\n",
    "print(toString(right_pad(test_1, 2)))"
   ]
  },
  {
   "cell_type": "code",
   "execution_count": null,
   "metadata": {},
   "outputs": [
    {
     "name": "stdout",
     "output_type": "stream",
     "text": [
      "+X, +Y, +Z, \n",
      "+XI, +YI, +YY, +XX, \n"
     ]
    }
   ],
   "source": [
    "#Test padding:\n",
    "combined13 = concatenate_ZX([test_1, test_3])\n",
    "print(toString(combined13))\n",
    "combined12 = concatenate_ZX([test_1, test_2])\n",
    "print(toString(combined12))"
   ]
  },
  {
   "cell_type": "code",
   "execution_count": null,
   "metadata": {},
   "outputs": [],
   "source": []
  },
  {
   "cell_type": "code",
   "execution_count": null,
   "metadata": {},
   "outputs": [
    {
     "name": "stdout",
     "output_type": "stream",
     "text": [
      "[1 4 6 2]\n",
      "[ 2 30 24  8 10]\n"
     ]
    }
   ],
   "source": [
    "\n",
    "concat = concatenate_ZX([test_1,test_3])\n",
    "print(concat)\n",
    "#print(convert_from_integer_representation(concat))\n",
    "correct_return = toZX(['YY', 'XX','XI','YI'])\n",
    "print(correct_return)\n"
   ]
  },
  {
   "cell_type": "markdown",
   "metadata": {},
   "source": [
    "Ok. Now, I need a function that allows me to multiply Paulis. Specifically, multiplication is addition in the symplectic form, ie, binary addition. \n",
    "\n",
    "Make the function numba compatible, and allow feeding arrays of paulis. \n",
    "\n",
    "Al"
   ]
  },
  {
   "cell_type": "code",
   "execution_count": null,
   "metadata": {},
   "outputs": [
    {
     "name": "stdout",
     "output_type": "stream",
     "text": [
      "42\n",
      "11\n"
     ]
    }
   ],
   "source": [
    "def transform_binary(n):\n",
    "    n_bits = n.bit_length()\n",
    "    m = 0\n",
    "    for i in range(n_bits):\n",
    "        # Read bits from the most significant bit to the least significant bit\n",
    "        bit = (n >> (n_bits - i - 1)) & 1\n",
    "        # Place the bit at position (2 * i + 1) in the result\n",
    "        m |= bit << (2 * i + 1)\n",
    "    return m\n",
    "\n",
    "# Example usage\n",
    "print(transform_binary(7))\n",
    "print(int('01011',2))\n",
    "\n",
    "#n = 0b110  # Binary integer 110\n",
    "#transformed_n = transform_binary(n)\n",
    "#print(bin(transformed_n))  # Output: 0b1010\n",
    "#print(transformed_n)       # Output: 10\n"
   ]
  },
  {
   "cell_type": "code",
   "execution_count": null,
   "metadata": {},
   "outputs": [
    {
     "name": "stdout",
     "output_type": "stream",
     "text": [
      "[ 3 48]\n",
      "[2 8]\n",
      "[ 3 48]\n"
     ]
    }
   ],
   "source": [
    "X = toZX(['XX'])\n",
    "XI = toZX(['XI'])\n",
    "Y = toZX(['Y'])\n",
    "\n",
    "XII = toZX(['XXI'])\n",
    "\n",
    "#Xpadded1 = right_pad(X, 2)\n",
    "Xpadded2 = right_pad(X, 3)\n",
    "#print(Xpadded1)\n",
    "print(Xpadded2)\n",
    "print(XI)\n",
    "print(XII)\n",
    "\n",
    "#assert Xpadded1[1] == XI[1]\n",
    "#assert Xpadded2 == XII"
   ]
  },
  {
   "cell_type": "code",
   "execution_count": null,
   "metadata": {},
   "outputs": [
    {
     "name": "stdout",
     "output_type": "stream",
     "text": [
      "[ 4 32 34  2  0 96  4 98]\n",
      "[  4  32  34   2   0  96   4  98 108]\n",
      "[ 4 96]\n",
      "[ 4 96]\n"
     ]
    }
   ],
   "source": [
    "input = toZX(['X', 'Y', 'Z', 'I', 'XX', 'IZ', 'YX'])\n",
    "#print(input)\n",
    "output = toZX(['XIII', 'YIII', 'ZIII', 'IIII', 'XXII', 'IZII', 'YXII', 'XYZI'])\n",
    "input_pad = right_pad(input, 4)\n",
    "print(input_pad)\n",
    "print(output)\n",
    "\n",
    "print(right_pad(toZX(['XX']),4))\n",
    "print(toZX(['XXII']))\n"
   ]
  },
  {
   "cell_type": "code",
   "execution_count": null,
   "metadata": {},
   "outputs": [],
   "source": [
    "input1 = ['X', 'YY', 'ZZZ']\n",
    "input2 = ['X', 'IY']\n",
    "input3 = ['Y','XIYZ' ]\n",
    "ZX1 = toZX(input1)\n",
    "ZX2 = toZX(input2)\n",
    "ZX3 = toZX(input3)"
   ]
  },
  {
   "cell_type": "code",
   "execution_count": null,
   "metadata": {},
   "outputs": [
    {
     "name": "stdout",
     "output_type": "stream",
     "text": [
      "[  4  32  40   8   0  96  16 104]\n",
      "[  4 256 272  16   0 384  16 392]\n",
      "[ 4 96]\n",
      "[ 4 96]\n"
     ]
    }
   ],
   "source": [
    "input = toZX(['X', 'Y', 'Z', 'I', 'XX', 'IZ', 'YX'])\n",
    "#print(input)\n",
    "output = toZX(['IIIX', 'IIIY', 'IIIZ', 'IIII', 'IIXX', 'IIIZ', 'IIYX'])\n",
    "input_pad = left_pad(input, 4)\n",
    "print(input_pad)\n",
    "print(output)\n",
    "\n",
    "print(right_pad(toZX(['XX']),4))\n",
    "print(toZX(['XXII']))\n"
   ]
  },
  {
   "cell_type": "code",
   "execution_count": null,
   "metadata": {},
   "outputs": [
    {
     "name": "stdout",
     "output_type": "stream",
     "text": [
      "[ 2  8 10 24  2]\n",
      "[ 2  8 10 24  2]\n",
      "[ 3 16 18 92  2]\n",
      "[ 3 16 18 92  2]\n"
     ]
    }
   ],
   "source": [
    "String_forms = [\n",
    "    ['X','Y'],\n",
    "    ['XX','ZI'],\n",
    "    ['XZY', 'Z']\n",
    "]\n",
    "output12 = ['XI','YI','XX','ZI']\n",
    "output13 = ['XII', 'YII', 'XZY', 'ZII']\n",
    "cat12 = concatenate_ZX((toZX(String_forms[0]), toZX(String_forms[1])))\n",
    "cat13 = concatenate_ZX((toZX(String_forms[0]), toZX(String_forms[2])))\n",
    "ZXoutput12 = toZX(output12)\n",
    "ZXoutput13 = toZX(output13)\n",
    "print(cat12)\n",
    "print(ZXoutput12)\n",
    "print(cat13)\n",
    "print(ZXoutput13)"
   ]
  },
  {
   "cell_type": "code",
   "execution_count": null,
   "metadata": {},
   "outputs": [
    {
     "name": "stdout",
     "output_type": "stream",
     "text": [
      "[0]\n",
      "[1]\n",
      "[1]\n"
     ]
    }
   ],
   "source": [
    "p1 = toZX(['XX'])\n",
    "p2 = toZX(['YY'])\n",
    "p3 = toZX(['ZI'])\n",
    "\n",
    "print(symplectic_inner_product(p1,p2))\n",
    "print(symplectic_inner_product(p1,p3))\n",
    "print(symplectic_inner_product(p2,p3))"
   ]
  }
 ],
 "metadata": {
  "kernelspec": {
   "display_name": "base",
   "language": "python",
   "name": "python3"
  },
  "language_info": {
   "codemirror_mode": {
    "name": "ipython",
    "version": 3
   },
   "file_extension": ".py",
   "mimetype": "text/x-python",
   "name": "python",
   "nbconvert_exporter": "python",
   "pygments_lexer": "ipython3",
   "version": "3.10.9"
  }
 },
 "nbformat": 4,
 "nbformat_minor": 2
}
